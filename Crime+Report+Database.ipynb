{
 "cells": [
  {
   "cell_type": "markdown",
   "metadata": {},
   "source": [
    "## Crime Report Database\n",
    "\n",
    "This project involves the creation of a database, schema, tables, and user management privileges with proper datatypes in Postgres from a CSV file on crime data."
   ]
  },
  {
   "cell_type": "code",
   "execution_count": 356,
   "metadata": {
    "collapsed": false
   },
   "outputs": [
    {
     "ename": "ProgrammingError",
     "evalue": "database \"crime_db\" already exists\n",
     "output_type": "error",
     "traceback": [
      "\u001b[1;31m\u001b[0m",
      "\u001b[1;31mProgrammingError\u001b[0mTraceback (most recent call last)",
      "\u001b[1;32m<ipython-input-356-51267d34b0b8>\u001b[0m in \u001b[0;36m<module>\u001b[1;34m()\u001b[0m\n\u001b[0;32m      6\u001b[0m \u001b[0mcur\u001b[0m \u001b[1;33m=\u001b[0m \u001b[0mconn\u001b[0m\u001b[1;33m.\u001b[0m\u001b[0mcursor\u001b[0m\u001b[1;33m(\u001b[0m\u001b[1;33m)\u001b[0m\u001b[1;33m\u001b[0m\u001b[0m\n\u001b[0;32m      7\u001b[0m \u001b[0mconn\u001b[0m\u001b[1;33m.\u001b[0m\u001b[0mautocommit\u001b[0m \u001b[1;33m=\u001b[0m \u001b[1;32mTrue\u001b[0m\u001b[1;33m\u001b[0m\u001b[0m\n\u001b[1;32m----> 8\u001b[1;33m \u001b[0mcur\u001b[0m\u001b[1;33m.\u001b[0m\u001b[0mexecute\u001b[0m\u001b[1;33m(\u001b[0m\u001b[1;34m\"CREATE DATABASE crime_db;\"\u001b[0m\u001b[1;33m)\u001b[0m\u001b[1;33m\u001b[0m\u001b[0m\n\u001b[0m\u001b[0;32m      9\u001b[0m \u001b[0mconn\u001b[0m\u001b[1;33m.\u001b[0m\u001b[0mclose\u001b[0m\u001b[1;33m(\u001b[0m\u001b[1;33m)\u001b[0m\u001b[1;33m\u001b[0m\u001b[0m\n",
      "\u001b[1;31mProgrammingError\u001b[0m: database \"crime_db\" already exists\n"
     ]
    }
   ],
   "source": [
    "\"\"\"Import packages and create crime database\"\"\"\n",
    "\n",
    "import psycopg2\n",
    "import csv\n",
    "conn = psycopg2.connect(dbname=\"dq\",user=\"dq\")\n",
    "cur = conn.cursor()\n",
    "conn.autocommit = True\n",
    "cur.execute(\"CREATE DATABASE crime_db;\")\n",
    "conn.close()"
   ]
  },
  {
   "cell_type": "code",
   "execution_count": 334,
   "metadata": {
    "collapsed": false
   },
   "outputs": [],
   "source": [
    "\"\"\"Connect to Crime database and create schema\"\"\"\n",
    "\n",
    "conn = psycopg2.connect(dbname=\"crime_db\",user=\"dq\")\n",
    "conn.autocommit = True\n",
    "cur = conn.cursor()\n",
    "cur.execute(\"CREATE SCHEMA crimes;\")"
   ]
  },
  {
   "cell_type": "code",
   "execution_count": 335,
   "metadata": {
    "collapsed": false
   },
   "outputs": [],
   "source": [
    "\"\"\"Read CSV file\"\"\"\n",
    "\n",
    "with open(\"boston.csv\") as file:\n",
    "    reader = csv.reader(file)\n",
    "    col_headers = next(file)\n",
    "    first_row = next(file)"
   ]
  },
  {
   "cell_type": "code",
   "execution_count": 336,
   "metadata": {
    "collapsed": false
   },
   "outputs": [],
   "source": [
    "\"\"\"Create function that takes in csv file and column\n",
    "   index and returns set of distinct values in that \n",
    "   column\"\"\"\n",
    "\n",
    "def get_col_value_set(csv_filename, col_index):\n",
    "    with open(csv_filename) as f:\n",
    "        next(f)\n",
    "        reader = csv.reader(f)\n",
    "        unique_col_values = set()\n",
    "        for row in reader:\n",
    "            col_val = row[col_index]\n",
    "            if col_val not in unique_col_values:\n",
    "                unique_col_values.add(col_val)\n",
    "        return unique_col_values"
   ]
  },
  {
   "cell_type": "code",
   "execution_count": 337,
   "metadata": {
    "collapsed": false
   },
   "outputs": [
    {
     "name": "stdout",
     "output_type": "stream",
     "text": [
      "column 0 : 298329\n",
      "column 1 : 219\n",
      "column 2 : 239\n",
      "column 3 : 1177\n",
      "column 4 : 7\n",
      "column 5 : 18177\n",
      "column 6 : 18177\n"
     ]
    }
   ],
   "source": [
    "\"\"\"Print number of distinct values in each column in \n",
    "   boston crime CSV\"\"\"\n",
    "\n",
    "for i in range(7):\n",
    "    lengths = len(get_col_value_set(\"boston.csv\",i))\n",
    "    print(\"column\",i,\":\",lengths)"
   ]
  },
  {
   "cell_type": "code",
   "execution_count": 338,
   "metadata": {
    "collapsed": false
   },
   "outputs": [
    {
     "name": "stdout",
     "output_type": "stream",
     "text": [
      "incident_number,offense_code,description,date,day_of_the_week,lat,long\n",
      "\n"
     ]
    }
   ],
   "source": [
    "\"\"\"Look at column headers to find indices\"\"\"\n",
    "\n",
    "print(col_headers)"
   ]
  },
  {
   "cell_type": "code",
   "execution_count": 339,
   "metadata": {
    "collapsed": false
   },
   "outputs": [
    {
     "name": "stdout",
     "output_type": "stream",
     "text": [
      "58\n"
     ]
    }
   ],
   "source": [
    "\"\"\"Find max character length in description column\"\"\"\n",
    "\n",
    "#description index = 2\n",
    "max_len = 0\n",
    "for word in get_col_value_set(\"boston.csv\",2):\n",
    "    max_len = len(word) if len(word) > max_len else max_len\n",
    "print(max_len)"
   ]
  },
  {
   "cell_type": "code",
   "execution_count": 340,
   "metadata": {
    "collapsed": false
   },
   "outputs": [
    {
     "name": "stdout",
     "output_type": "stream",
     "text": [
      "incident_number,offense_code,description,date,day_of_the_week,lat,long\n",
      "\n",
      "1,619,LARCENY ALL OTHERS,2018-09-02,Sunday,42.35779134,-71.13937053\n",
      "\n"
     ]
    }
   ],
   "source": [
    "print(col_headers)\n",
    "print(first_row)"
   ]
  },
  {
   "cell_type": "code",
   "execution_count": 341,
   "metadata": {
    "collapsed": false
   },
   "outputs": [
    {
     "name": "stdout",
     "output_type": "stream",
     "text": [
      "2,1402,VANDALISM,2018-08-21,Tuesday,42.30682138,-71.06030035\n",
      "\n",
      "3,3410,TOWED MOTOR VEHICLE,2018-09-03,Monday,42.34658879,-71.07242943\n",
      "\n",
      "4,3114,INVESTIGATE PROPERTY,2018-09-03,Monday,42.33418175,-71.07866441\n",
      "\n"
     ]
    }
   ],
   "source": [
    "\"\"\"Let's look at the data in the first couple of rows \n",
    "   to help determine datatypes\"\"\"\n",
    "\n",
    "with open(\"boston.csv\") as file:\n",
    "    reader = csv.reader(file)\n",
    "    col_headers = next(file)\n",
    "    first_row = next(file)\n",
    "    second = next(file)\n",
    "    third = next(file)\n",
    "    fourth = next(file)\n",
    "print(second)\n",
    "print(third)\n",
    "print(fourth)"
   ]
  },
  {
   "cell_type": "markdown",
   "metadata": {},
   "source": [
    "### Determining Datatypes\n",
    "\n",
    "Feel good about all the existing column names, they're short but accurate and descriptive\n",
    "\n",
    "1. incident_number: bigint: always going to be an     integer, but could have a very high number of incidents\n",
    "\n",
    "2. offense_code: smallint -- will always be an integer 4 characters long\n",
    "\n",
    "3. description: varchar(200) -- we know that the max length is 58, but descriptions can vary, so let's give some wiggle room for a max # of characters at 200\n",
    "\n",
    "4. date: date\n",
    "\n",
    "5. day_of_the_week: enum -- will always be one of the 7 days of the week\n",
    "\n",
    "6. lat: decimal(10,8) -- always 2 digits before the decimal point and 8 digits after\n",
    "\n",
    "7. long: decimal(10,8) -- always 2 digits before the decimal point and 8 digits after"
   ]
  },
  {
   "cell_type": "code",
   "execution_count": 342,
   "metadata": {
    "collapsed": false
   },
   "outputs": [],
   "source": [
    "\"\"\"Create table for crime data with given columns\n",
    "   and assign datatypes from above accordingly\"\"\"\n",
    "\n",
    "cur.execute(\"\"\"CREATE TYPE enum_day AS ENUM(\n",
    "            'Monday','Tuesday','Wednesday',\n",
    "            'Thursday','Friday','Saturday','Sunday');\"\"\")\n",
    "cur.execute(\"\"\"CREATE TABLE crimes.boston_crimes (\n",
    "           incident_number bigint PRIMARY KEY,\n",
    "           offense_code smallint,\n",
    "           description varchar(200), date date,\n",
    "           day_of_the_week enum_day,\n",
    "           lat decimal(10,8),\n",
    "           long decimal(10,8));\"\"\")"
   ]
  },
  {
   "cell_type": "code",
   "execution_count": 343,
   "metadata": {
    "collapsed": false
   },
   "outputs": [],
   "source": [
    "\"\"\"Copy data from CSV file into table in database\"\"\"\n",
    "\n",
    "with open(\"boston.csv\") as crimefile:\n",
    "    cur.copy_expert(\"\"\"COPY crimes.boston_crimes \n",
    "                        FROM STDIN WITH CSV HEADER;\"\"\",\n",
    "                        crimefile)"
   ]
  },
  {
   "cell_type": "code",
   "execution_count": 344,
   "metadata": {
    "collapsed": false
   },
   "outputs": [],
   "source": [
    "\"\"\"Revoke all privileges from public schema in database\"\"\"\n",
    "\n",
    "cur.execute(\"REVOKE ALL ON SCHEMA public FROM public;\")\n",
    "cur.execute(\"\"\"REVOKE ALL ON DATABASE crime_db FROM public;\"\"\")"
   ]
  },
  {
   "cell_type": "code",
   "execution_count": 345,
   "metadata": {
    "collapsed": false
   },
   "outputs": [],
   "source": [
    "\"\"\"Create readonly and readwrite groups and grant\n",
    "privileges to each group\"\"\"\n",
    "\n",
    "cur.execute(\"\"\"CREATE GROUP readonly NOLOGIN;\"\"\")\n",
    "cur.execute(\"\"\"CREATE GROUP readwrite NOLOGIN;\"\"\")\n",
    "cur.execute(\"\"\"GRANT CONNECT ON DATABASE crime_db TO \n",
    "               readonly,readwrite;\"\"\")\n",
    "cur.execute(\"\"\"GRANT USAGE ON SCHEMA crimes TO readonly,\n",
    "               readwrite;\"\"\")\n",
    "cur.execute(\"\"\"GRANT SELECT ON ALL TABLES IN SCHEMA\n",
    "               crimes TO readonly;\"\"\")\n",
    "cur.execute(\"\"\"GRANT SELECT,INSERT,DELETE,UPDATE ON\n",
    "               ALL TABLES IN SCHEMA crimes TO\n",
    "               readwrite;\"\"\")"
   ]
  },
  {
   "cell_type": "code",
   "execution_count": 346,
   "metadata": {
    "collapsed": false
   },
   "outputs": [],
   "source": [
    "\"\"\"Create data analyst and data scientist roles and \n",
    "   assign them group privileges\"\"\"\n",
    "\n",
    "cur.execute(\"\"\"CREATE USER data_analyst WITH\n",
    "               PASSWORD 'secret1';\"\"\")\n",
    "cur.execute(\"\"\"GRANT readonly TO data_analyst;\"\"\")\n",
    "cur.execute(\"\"\"CREATE USER data_scientist WITH\n",
    "               PASSWORD 'secret2';\"\"\")\n",
    "cur.execute(\"\"\"GRANT readwrite TO data_scientist;\"\"\")"
   ]
  },
  {
   "cell_type": "code",
   "execution_count": 360,
   "metadata": {
    "collapsed": true
   },
   "outputs": [],
   "source": [
    "\"\"\"Close connection\"\"\"\n",
    "\n",
    "conn.close()"
   ]
  },
  {
   "cell_type": "code",
   "execution_count": 384,
   "metadata": {
    "collapsed": false
   },
   "outputs": [
    {
     "name": "stdout",
     "output_type": "stream",
     "text": [
      "('readwrite', 'INSERT')\n",
      "('readwrite', 'SELECT')\n",
      "('readwrite', 'UPDATE')\n",
      "('readwrite', 'DELETE')\n"
     ]
    }
   ],
   "source": [
    "\"\"\"Reconnect to test that privileges have been assigned correctly\"\"\"\n",
    "\n",
    "conn = psycopg2.connect(dbname=\"crime_db\",user=\"dq\")\n",
    "cur = conn.cursor()\n",
    "\n",
    "# Test 1: Readwrite/DS privilege check\n",
    "readwrite_priv = cur.execute(\"\"\"SELECT grantee, privilege_type\n",
    "               FROM information_schema.table_privileges\n",
    "               WHERE grantee IN ('readwrite');\"\"\")\n",
    "for user in cur:\n",
    "    print(user)\n",
    "conn.close()"
   ]
  },
  {
   "cell_type": "code",
   "execution_count": 378,
   "metadata": {
    "collapsed": false
   },
   "outputs": [
    {
     "name": "stderr",
     "output_type": "stream",
     "text": [
      "ERROR: An unexpected error occurred while tokenizing input\n",
      "The following traceback may be corrupted or invalid\n",
      "The error message is: ('EOF in multi-line string', (1, 28))\n",
      "\n"
     ]
    },
    {
     "ename": "ProgrammingError",
     "evalue": "permission denied for relation boston_crimes\n",
     "output_type": "error",
     "traceback": [
      "\u001b[1;31m\u001b[0m",
      "\u001b[1;31mProgrammingError\u001b[0mTraceback (most recent call last)",
      "\u001b[1;32m<ipython-input-378-21f6b98072f2>\u001b[0m in \u001b[0;36m<module>\u001b[1;34m()\u001b[0m\n\u001b[0;32m     12\u001b[0m                \u001b[1;34m'Tuesday'\u001b[0m\u001b[1;33m,\u001b[0m\u001b[1;33m\u001b[0m\u001b[0m\n\u001b[0;32m     13\u001b[0m                \u001b[1;36m42.30682138\u001b[0m\u001b[1;33m,\u001b[0m\u001b[1;33m\u001b[0m\u001b[0m\n\u001b[1;32m---> 14\u001b[1;33m                -71.06030035)\"\"\")\n\u001b[0m\u001b[0;32m     15\u001b[0m \u001b[0mconn\u001b[0m\u001b[1;33m.\u001b[0m\u001b[0mclose\u001b[0m\u001b[1;33m(\u001b[0m\u001b[1;33m)\u001b[0m\u001b[1;33m\u001b[0m\u001b[0m\n",
      "\u001b[1;31mProgrammingError\u001b[0m: permission denied for relation boston_crimes\n"
     ]
    }
   ],
   "source": [
    "# Test 2: Check privileges of Readonly/Analyst by\n",
    "# connecting to database and trying to insert data\n",
    "\n",
    "conn = psycopg2.connect(\"\"\"dbname=crime_db \n",
    "                           user=data_analyst\n",
    "                           password='secret1'\"\"\")\n",
    "cur = conn.cursor()\n",
    "cur.execute(\"\"\"INSERT INTO crimes.boston_crimes VALUES\n",
    "               (2,\n",
    "               1402,\n",
    "               'VANDALISM',\n",
    "               '2018-08-21',\n",
    "               'Tuesday',\n",
    "               42.30682138,\n",
    "               -71.06030035)\"\"\")\n",
    "conn.close()"
   ]
  },
  {
   "cell_type": "code",
   "execution_count": 383,
   "metadata": {
    "collapsed": false
   },
   "outputs": [
    {
     "name": "stdout",
     "output_type": "stream",
     "text": [
      "(1, 619, 'LARCENY ALL OTHERS', datetime.date(2018, 9, 2), 'Sunday', Decimal('42.35779134'), Decimal('-71.13937053'))\n",
      "(2, 1402, 'VANDALISM', datetime.date(2018, 8, 21), 'Tuesday', Decimal('42.30682138'), Decimal('-71.06030035'))\n",
      "(3, 3410, 'TOWED MOTOR VEHICLE', datetime.date(2018, 9, 3), 'Monday', Decimal('42.34658879'), Decimal('-71.07242943'))\n",
      "(4, 3114, 'INVESTIGATE PROPERTY', datetime.date(2018, 9, 3), 'Monday', Decimal('42.33418175'), Decimal('-71.07866441'))\n",
      "(5, 3114, 'INVESTIGATE PROPERTY', datetime.date(2018, 9, 3), 'Monday', Decimal('42.27536542'), Decimal('-71.09036101'))\n",
      "(6, 3820, 'M/V ACCIDENT INVOLVING PEDESTRIAN - INJURY', datetime.date(2018, 9, 3), 'Monday', Decimal('42.29019621'), Decimal('-71.07159012'))\n",
      "(7, 724, 'AUTO THEFT', datetime.date(2018, 9, 3), 'Monday', Decimal('42.30607218'), Decimal('-71.08273260'))\n",
      "(8, 3301, 'VERBAL DISPUTE', datetime.date(2018, 9, 3), 'Monday', Decimal('42.32701648'), Decimal('-71.10555088'))\n",
      "(9, 301, 'ROBBERY - STREET', datetime.date(2018, 9, 3), 'Monday', Decimal('42.33152148'), Decimal('-71.07085307'))\n",
      "(10, 3301, 'VERBAL DISPUTE', datetime.date(2018, 9, 3), 'Monday', Decimal('42.29514664'), Decimal('-71.05860832'))\n"
     ]
    }
   ],
   "source": [
    "# Test 3: Finally, just check to make sure that data\n",
    "# is stored in the tables the way it should be\n",
    "\n",
    "conn = psycopg2.connect(\"dbname=crime_db user=dq\")\n",
    "cur = conn.cursor()\n",
    "\n",
    "cur.execute(\"\"\"SELECT * FROM crimes.boston_crimes\n",
    "               LIMIT 10;\"\"\")\n",
    "for row in cur:\n",
    "    print(row)\n",
    "conn.close()"
   ]
  },
  {
   "cell_type": "code",
   "execution_count": 385,
   "metadata": {
    "collapsed": true
   },
   "outputs": [],
   "source": [
    "\"\"\"Yay! Commit changes and close the connection\"\"\"\n",
    "\n",
    "conn = psycopg2.connect(\"dbname=crime_db user=dq\")\n",
    "conn.commit()\n",
    "conn.close()"
   ]
  },
  {
   "cell_type": "code",
   "execution_count": null,
   "metadata": {
    "collapsed": true
   },
   "outputs": [],
   "source": []
  }
 ],
 "metadata": {
  "kernelspec": {
   "display_name": "Python 3",
   "language": "python",
   "name": "python3"
  },
  "language_info": {
   "codemirror_mode": {
    "name": "ipython",
    "version": 3
   },
   "file_extension": ".py",
   "mimetype": "text/x-python",
   "name": "python",
   "nbconvert_exporter": "python",
   "pygments_lexer": "ipython3",
   "version": "3.4.3"
  }
 },
 "nbformat": 4,
 "nbformat_minor": 2
}
